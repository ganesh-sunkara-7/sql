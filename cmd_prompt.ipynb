{
 "cells": [
  {
   "cell_type": "markdown",
   "id": "cb6b952e-cc34-45a3-a98a-c648e70d23a6",
   "metadata": {},
   "source": [
    "### USING COMMAND PROMPT "
   ]
  },
  {
   "cell_type": "markdown",
   "id": "c3977d7f-5f03-40f9-a5a5-c1c7ba65fbe8",
   "metadata": {},
   "source": [
    "### Once you have opened the Command Prompt, familiarize yourself with these essential commands:\n",
    "Navigating Directories:\n",
    "\n",
    "cd path_to_directory: Change to a specific directory (e.g., cd Users\\YourUsername\\Documents).\n",
    "cd ..: Move up one directory level.\n",
    "\n",
    "cd: Return to the root directory.\n",
    "\n",
    "    Listing Files and Folders:\n",
    "dir: Display a list of files and folders in the current directory.\n",
    "\n",
    "dir /w: List contents in a wide format.\n",
    "dir /p: Paginate output for long lists.\n",
    "\n",
    "Creating and Deleting Directories:\n",
    "mkdir folder_name: Create a new directory.\n",
    "rmdir folder_name: Remove an empty directory.\n",
    "\n",
    "Clearing the Screen:\n",
    "cls: Clear the Command Prompt screen.\n",
    "\n",
    "Getting Help:\n",
    "Type help to see a list of available commands.\n",
    "For help on a specific command, type command_name /? (e.g., cd /?)."
   ]
  },
  {
   "cell_type": "code",
   "execution_count": null,
   "id": "9477accc-b01f-4a1a-a09d-3e120fa796c9",
   "metadata": {},
   "outputs": [],
   "source": []
  },
  {
   "cell_type": "raw",
   "id": "24688aa6-ed7d-4305-91cd-0e4d435a48c5",
   "metadata": {},
   "source": [
    "To change from one drive  to another drive \n",
    "U need to use \"drive_name:\"\n",
    "\n",
    "D:\\upper_cmd\\lower_cmd\\lowersub_cmd>C:\n",
    "C:\\>\n",
    "\n",
    "and there is no other option to change drive through any other way\n",
    "if it has may be i don't know"
   ]
  },
  {
   "cell_type": "code",
   "execution_count": null,
   "id": "f2172d32-92c5-45e9-b4fa-2bb268d8118c",
   "metadata": {},
   "outputs": [],
   "source": [
    "If u do want change dir from subfile to drive location\n",
    "U need to use  \"cd drive_name:\\\"\n",
    "\n",
    "D:\\upper_cmd\\lower_cmd\\lowersub_cmd>cd D:\\\n",
    "D:\\>"
   ]
  },
  {
   "cell_type": "code",
   "execution_count": null,
   "id": "83a293ec-86cf-47df-97ac-410ef1287057",
   "metadata": {},
   "outputs": [],
   "source": []
  },
  {
   "cell_type": "code",
   "execution_count": null,
   "id": "05596ff3-ed6c-48b2-ab66-953fa3e94c81",
   "metadata": {},
   "outputs": [],
   "source": [
    "If u do want to go upper directory name \n",
    "U need to use  \"cd ..\"\n",
    "\n",
    "D:\\upper_cmd\\lower_cmd\\lowersub_cmd>cd ..\n",
    "b\n",
    "D:\\upper_cmd\\lower_cmd>"
   ]
  },
  {
   "cell_type": "code",
   "execution_count": null,
   "id": "b153fd7f-05e5-45b5-a899-9659b0886bdd",
   "metadata": {},
   "outputs": [],
   "source": []
  },
  {
   "cell_type": "code",
   "execution_count": null,
   "id": "5cf07998-64d1-49df-bbed-e4b93330b04b",
   "metadata": {},
   "outputs": [],
   "source": []
  },
  {
   "cell_type": "code",
   "execution_count": null,
   "id": "2dbfab5e-ac1f-4377-915c-5b23806309ed",
   "metadata": {},
   "outputs": [],
   "source": [
    "To know the list of contents in a specific directory \n",
    "U need to use   \"cd dir\"\n",
    "\n",
    "D:\\upper_cmd\\lower_cmd>dir\n",
    " Volume in drive D is New Volume\n",
    " Volume Serial Number is 3028-2249\n",
    "\n",
    " Directory of D:\\upper_cmd\\lower_cmd\n",
    "\n",
    "28-12-2024  23:39    <DIR>          .\n",
    "28-12-2024  23:38    <DIR>          ..\n",
    "23-11-2024  07:00            10,325 006.string_methods.ipynb\n",
    "19-12-2024  15:20             5,783 007.print_formatting.ipynb\n",
    "29-08-2024  14:54            12,569 008.lists   _ .ipynb\n",
    "30-08-2024  09:26            16,782 009.dictionaries_tuples_sets.ipynb\n",
    "06-12-2024  17:07            10,709 09-Functions and Methods Homework - Solutions.ipynb\n",
    "28-12-2024  23:41    <DIR>          lowersub_cmd\n",
    "               5 File(s)         56,168 bytes\n",
    "               3 Dir(s)  198,497,112,064 bytes free"
   ]
  },
  {
   "cell_type": "code",
   "execution_count": null,
   "id": "1c649274-6d30-43db-b595-699bfcdfc782",
   "metadata": {},
   "outputs": [],
   "source": []
  },
  {
   "cell_type": "code",
   "execution_count": null,
   "id": "e04e7c30-f459-4dea-b23a-2ff5911b2869",
   "metadata": {},
   "outputs": [],
   "source": []
  },
  {
   "cell_type": "code",
   "execution_count": null,
   "id": "70cbcd8f-eade-4df3-ab69-ca9368764c2c",
   "metadata": {},
   "outputs": [],
   "source": [
    "if u do want to clear the space on the cmd prompt\n",
    "U need to use \"cls\"\n"
   ]
  },
  {
   "cell_type": "code",
   "execution_count": null,
   "id": "0752b886-5d9e-4962-a7a1-c3ea86f114f1",
   "metadata": {},
   "outputs": [],
   "source": []
  },
  {
   "cell_type": "code",
   "execution_count": null,
   "id": "09c06932-ae69-4226-8bc0-531b04719bf9",
   "metadata": {},
   "outputs": [],
   "source": [
    "#1\n",
    "if  u do want create an empty file \n",
    "U need to use \"mkdir folder_name\"\n",
    "\n",
    "D:\\upper_cmd\\lower_cmd\\lowersub_cmd>mkdir sub2\n",
    "\n",
    "it will create a new file sunb 4 in the dir lowersub_cmd\n",
    "\n",
    "\n",
    "#2\n",
    "if u do want delete an empty file \n",
    "key:   \"rmdir folder_name\"\n",
    "\n",
    "if the file is not empty file, it will not delete\n"
   ]
  },
  {
   "cell_type": "code",
   "execution_count": null,
   "id": "9a39d4ab-5b6e-4715-8ad6-22988321910b",
   "metadata": {},
   "outputs": [],
   "source": []
  },
  {
   "cell_type": "code",
   "execution_count": null,
   "id": "4b36e20e-a536-4ada-8e46-2f6d9e51d87c",
   "metadata": {},
   "outputs": [],
   "source": []
  }
 ],
 "metadata": {
  "kernelspec": {
   "display_name": "Python [conda env:base] *",
   "language": "python",
   "name": "conda-base-py"
  },
  "language_info": {
   "codemirror_mode": {
    "name": "ipython",
    "version": 3
   },
   "file_extension": ".py",
   "mimetype": "text/x-python",
   "name": "python",
   "nbconvert_exporter": "python",
   "pygments_lexer": "ipython3",
   "version": "3.12.7"
  }
 },
 "nbformat": 4,
 "nbformat_minor": 5
}
